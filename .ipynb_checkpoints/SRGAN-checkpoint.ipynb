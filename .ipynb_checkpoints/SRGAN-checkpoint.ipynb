{
 "cells": [
  {
   "cell_type": "markdown",
   "metadata": {},
   "source": [
    "#### TODO list:\n",
    "  - test and pick the best loss function\n",
    "  - test and run the training code\n",
    "    - text output\n",
    "    - img output\n",
    "    - save models\n",
    "  - convert to .py file for easy future running (tuning)"
   ]
  },
  {
   "cell_type": "code",
   "execution_count": 1,
   "metadata": {},
   "outputs": [],
   "source": [
    "from model import Generator, Discriminator\n",
    "from loss import SRGAN_Loss\n",
    "from utils import TrainDatasetFromFolder, ValDatasetFromFolder, display_transform, scale_lr2hr\n",
    "\n",
    "import os\n",
    "from math import log10\n",
    "import pandas as pd\n",
    "import torch.optim as optim\n",
    "import torch.utils.data\n",
    "import torchvision.utils as utils\n",
    "import pytorch_ssim\n",
    "from torch.autograd import Variable\n",
    "from torch.utils.data import DataLoader, Dataset\n",
    "from tqdm import tqdm"
   ]
  },
  {
   "cell_type": "code",
   "execution_count": 2,
   "metadata": {},
   "outputs": [],
   "source": [
    "### global parameters\n",
    "SCALE_FACTOR = 4\n",
    "TRAIN_HR_DIR = \"temp_data/train_images_hr/\"\n",
    "TRAIN_LR_DIR = \"temp_data/train_images_lr/\"\n",
    "VAL_HR_DIR = \"temp_data/val_images_hr/\"\n",
    "VAL_LR_DIR = \"temp_data/val_images_lr/\"\n",
    "RESULTS_DIR = \"results/\" + \"SR\" + str(SCALE_FACTOR) + \"/\"\n",
    "\n",
    "# network parameters\n",
    "CONTENT_LOSS = \"both\"  # try \"both\" in future test\n",
    "ADVERSARIAL_LOSS = \"bce\"\n",
    "TV_LOSS_ON = False\n",
    "\n",
    "# training parameters\n",
    "BATCH_SIZE = 1\n",
    "NUM_EPOCHS = 10\n",
    "NUM_WORKERS = 0  # workers for loading data"
   ]
  },
  {
   "cell_type": "markdown",
   "metadata": {},
   "source": [
    "# GPU"
   ]
  },
  {
   "cell_type": "code",
   "execution_count": 3,
   "metadata": {},
   "outputs": [
    {
     "name": "stdout",
     "output_type": "stream",
     "text": [
      "# generator parameters: 734219\n",
      "# discriminator parameters: 138908865\n"
     ]
    },
    {
     "name": "stderr",
     "output_type": "stream",
     "text": [
      "[1/10] Loss_D: 0.9966 Loss_G: 0.0111 D(hr): 0.8815 D(G(lr)): 0.8790: 100%|██████████| 587/587 [02:04<00:00,  4.70it/s]\n",
      "[validation] PSNR: 21.1037 dB SSIM: 0.5346: 100%|██████████| 5/5 [00:00<00:00, 30.56it/s]\n",
      "[2/10] Loss_D: 1.0000 Loss_G: 0.0030 D(hr): 1.0000 D(G(lr)): 1.0000: 100%|██████████| 587/587 [02:05<00:00,  4.68it/s]\n",
      "[validation] PSNR: 23.0675 dB SSIM: 0.6305: 100%|██████████| 5/5 [00:00<00:00, 31.88it/s]\n",
      "[3/10] Loss_D: 1.0000 Loss_G: 0.0023 D(hr): 1.0000 D(G(lr)): 1.0000: 100%|██████████| 587/587 [02:03<00:00,  4.77it/s]\n",
      "[validation] PSNR: 24.2256 dB SSIM: 0.6780: 100%|██████████| 5/5 [00:00<00:00, 37.24it/s]\n",
      "[4/10] Loss_D: 1.0000 Loss_G: 0.0022 D(hr): 1.0000 D(G(lr)): 1.0000: 100%|██████████| 587/587 [02:04<00:00,  4.72it/s]\n",
      "[validation] PSNR: 18.1952 dB SSIM: 0.5701: 100%|██████████| 5/5 [00:00<00:00, 31.39it/s]\n",
      "[5/10] Loss_D: 1.0000 Loss_G: 0.0034 D(hr): 1.0000 D(G(lr)): 1.0000: 100%|██████████| 587/587 [02:05<00:00,  4.69it/s]\n",
      "[validation] PSNR: 24.9274 dB SSIM: 0.7173: 100%|██████████| 5/5 [00:00<00:00, 29.89it/s]\n",
      "[6/10] Loss_D: 1.0000 Loss_G: 0.0018 D(hr): 1.0000 D(G(lr)): 1.0000: 100%|██████████| 587/587 [02:05<00:00,  4.67it/s]\n",
      "[validation] PSNR: 25.6517 dB SSIM: 0.7459: 100%|██████████| 5/5 [00:00<00:00, 34.63it/s]\n",
      "[7/10] Loss_D: 1.0000 Loss_G: 0.0017 D(hr): 1.0000 D(G(lr)): 1.0000: 100%|██████████| 587/587 [02:05<00:00,  4.69it/s]\n",
      "[validation] PSNR: 24.8305 dB SSIM: 0.7397: 100%|██████████| 5/5 [00:00<00:00, 38.01it/s]\n",
      "[8/10] Loss_D: 1.0000 Loss_G: 0.0021 D(hr): 1.0000 D(G(lr)): 1.0000: 100%|██████████| 587/587 [02:04<00:00,  4.70it/s]\n",
      "[validation] PSNR: 24.9043 dB SSIM: 0.7360: 100%|██████████| 5/5 [00:00<00:00, 32.47it/s]\n",
      "[9/10] Loss_D: 1.0000 Loss_G: 0.0017 D(hr): 1.0000 D(G(lr)): 1.0000: 100%|██████████| 587/587 [02:05<00:00,  4.69it/s]\n",
      "[validation] PSNR: 26.4458 dB SSIM: 0.7590: 100%|██████████| 5/5 [00:00<00:00, 30.32it/s]\n",
      "[10/10] Loss_D: 1.0000 Loss_G: 0.0017 D(hr): 1.0000 D(G(lr)): 1.0000: 100%|██████████| 587/587 [02:05<00:00,  4.69it/s]\n",
      "[validation] PSNR: 26.3674 dB SSIM: 0.7574: 100%|██████████| 5/5 [00:00<00:00, 32.61it/s]\n"
     ]
    }
   ],
   "source": [
    "train_dataset = TrainDatasetFromFolder(hr_dir=TRAIN_HR_DIR, lr_dir=TRAIN_LR_DIR)\n",
    "train_loader = DataLoader(dataset=train_dataset, num_workers=NUM_WORKERS, batch_size=BATCH_SIZE, shuffle=True)\n",
    "val_dataset = ValDatasetFromFolder(hr_dir=VAL_HR_DIR, lr_dir=VAL_LR_DIR)\n",
    "val_loader = DataLoader(dataset=val_dataset, num_workers=NUM_WORKERS, batch_size=1, shuffle=False)\n",
    "\n",
    "netG = Generator(scale_factor=SCALE_FACTOR)\n",
    "print('# generator parameters:', sum(param.numel() for param in netG.parameters()))\n",
    "netD = Discriminator()\n",
    "print('# discriminator parameters:', sum(param.numel() for param in netD.parameters()))\n",
    "\n",
    "generator_criterion = SRGAN_Loss(content_loss=CONTENT_LOSS, \n",
    "                                 adversarial_loss=ADVERSARIAL_LOSS, \n",
    "                                 tv_loss_on=TV_LOSS_ON)\n",
    "\n",
    "if torch.cuda.is_available():\n",
    "    netG.cuda()\n",
    "    netD.cuda()\n",
    "    generator_criterion.cuda()\n",
    "    \n",
    "optimizerG = optim.Adam(netG.parameters())\n",
    "optimizerD = optim.Adam(netD.parameters())\n",
    "\n",
    "results = {'d_loss': [], 'g_loss': [], 'd_score': [], 'g_score': [], 'psnr': [], 'ssim': []}\n",
    "if not os.path.isdir(RESULTS_DIR):\n",
    "    os.mkdir(RESULTS_DIR)\n",
    "out_path_val = RESULTS_DIR + \"val_predict/\"\n",
    "if not os.path.isdir(out_path_val):\n",
    "    os.mkdir(out_path_val)\n",
    "out_path_net = RESULTS_DIR + \"net_weights/\"\n",
    "if not os.path.isdir(out_path_net):\n",
    "    os.mkdir(out_path_net)\n",
    "\n",
    "for epoch in range(1, NUM_EPOCHS + 1):\n",
    "    train_bar = tqdm(train_loader)\n",
    "    running_results = {'batch_sizes': 0, 'd_loss': 0, 'g_loss': 0, 'd_score': 0, 'g_score': 0}\n",
    "\n",
    "    netG.train()\n",
    "    netD.train()\n",
    "    \n",
    "    ### training\n",
    "    for lr_img, hr_img in train_bar:\n",
    "        g_update_first = True\n",
    "        batch_size = lr_img.size(0)\n",
    "        running_results['batch_sizes'] += batch_size\n",
    "        \n",
    "        ############################\n",
    "        # (1) Update D network: maximize D(x)-1-D(G(z))\n",
    "        ###########################\n",
    "        real_img = Variable(hr_img)\n",
    "        if torch.cuda.is_available():\n",
    "            real_img = real_img.cuda()\n",
    "        z = Variable(lr_img)\n",
    "        if torch.cuda.is_available():\n",
    "            z = z.cuda()\n",
    "        fake_img = netG(z)\n",
    "\n",
    "        netD.zero_grad()\n",
    "        real_out = netD(real_img)\n",
    "        fake_out = netD(fake_img)\n",
    "        d_loss = 1 - real_out.mean() + fake_out.mean()  # L1 loss\n",
    "        #  could also try a BCELoss: log(1-real_out)+log(fake_out)\n",
    "        d_loss.backward(retain_graph=True)\n",
    "        optimizerD.step()\n",
    "        \n",
    "        ############################\n",
    "        # (2) Update G network: minimize 1-D(G(z)) + Perception Loss + Image Loss + TV Loss\n",
    "        ###########################\n",
    "        netG.zero_grad()\n",
    "        g_loss = generator_criterion(fake_out, fake_img, real_img)\n",
    "        g_loss.backward()\n",
    "\n",
    "        fake_img = netG(z)\n",
    "        fake_out = netD(fake_img).mean()\n",
    "\n",
    "        optimizerG.step()\n",
    "\n",
    "        # loss for current batch before optimization \n",
    "        running_results['g_loss'] += g_loss.item() * batch_size\n",
    "        running_results['d_loss'] += d_loss.item() * batch_size\n",
    "        running_results['d_score'] += real_out.sum().item()\n",
    "        running_results['g_score'] += fake_out.sum().item()\n",
    "\n",
    "        train_bar.set_description(desc='[%d/%d] Loss_D: %.4f Loss_G: %.4f D(hr): %.4f D(G(lr)): %.4f' % (\n",
    "            epoch, NUM_EPOCHS, running_results['d_loss'] / running_results['batch_sizes'],\n",
    "            running_results['g_loss'] / running_results['batch_sizes'],\n",
    "            running_results['d_score'] / running_results['batch_sizes'],\n",
    "            running_results['g_score'] / running_results['batch_sizes']))\n",
    "        pass\n",
    "    \n",
    "    ### evaluating\n",
    "    netG.eval()\n",
    "    out_path_val_epoch = out_path_val + \"epoch_%d/\" % epoch\n",
    "    if not os.path.isdir(out_path_val_epoch):\n",
    "        os.mkdir(out_path_val_epoch)\n",
    "    with torch.no_grad():\n",
    "        valing_results = {'mse': 0, 'ssims': 0, 'psnr': 0, 'ssim': 0, 'batch_sizes': 0}\n",
    "        val_bar = tqdm(val_loader)\n",
    "        val_images = []\n",
    "        val_names = []\n",
    "        for val_lr, val_hr, val_name in val_bar:\n",
    "            batch_size = val_lr.size(0)\n",
    "            valing_results['batch_sizes'] += batch_size\n",
    "            lr = val_lr\n",
    "            hr = val_hr\n",
    "            lr2hr = scale_lr2hr((256, 256))(lr.squeeze(0))\n",
    "            if torch.cuda.is_available():\n",
    "                lr = lr.cuda()\n",
    "                hr = hr.cuda()\n",
    "            sr = netG(lr)\n",
    "\n",
    "            batch_mse = ((sr - hr) ** 2).data.mean()\n",
    "            valing_results['mse'] += batch_mse * batch_size\n",
    "            batch_ssim = pytorch_ssim.ssim(sr, hr).item()\n",
    "            valing_results['ssims'] += batch_ssim * batch_size\n",
    "            valing_results['psnr'] = 10 * log10(1 / (valing_results['mse'] / valing_results['batch_sizes']))\n",
    "            valing_results['ssim'] = valing_results['ssims'] / valing_results['batch_sizes']\n",
    "            val_bar.set_description(\n",
    "                desc='[validation] PSNR: %.4f dB SSIM: %.4f' % (\n",
    "                    valing_results['psnr'], valing_results['ssim']))\n",
    "            val_images.extend(\n",
    "                [display_transform()(lr2hr.squeeze(0)), display_transform()(hr.data.cpu().squeeze(0)),\n",
    "                 display_transform()(sr.data.cpu().squeeze(0))])\n",
    "            val_names.extend(val_name)\n",
    "        val_images = torch.stack(val_images)\n",
    "        val_images = torch.chunk(val_images, val_images.size(0) // 3)\n",
    "        # val_save_bar = zip(tqdm(val_images, desc='[saving validating results]'), val_names)\n",
    "        for image, name in zip(val_images, val_names):\n",
    "            image = utils.make_grid(image, nrow=3, padding=5)\n",
    "            utils.save_image(image, out_path_val_epoch + '%s.png' % name.strip(\".tif\"), padding=5)\n",
    "    \n",
    "    ### save model parameters\n",
    "    torch.save(netG.state_dict(), out_path_net + \"netG_epoch_%d.pth\" % epoch)\n",
    "    torch.save(netD.state_dict(), out_path_net + \"netD_epoch_%d.pth\" % epoch)\n",
    "    \n",
    "    ### save loss\\scores\\psnr\\ssim\n",
    "    results['d_loss'].append(running_results['d_loss'] / running_results['batch_sizes'])\n",
    "    results['g_loss'].append(running_results['g_loss'] / running_results['batch_sizes'])\n",
    "    results['d_score'].append(running_results['d_score'] / running_results['batch_sizes'])\n",
    "    results['g_score'].append(running_results['g_score'] / running_results['batch_sizes'])\n",
    "    results['psnr'].append(valing_results['psnr'])\n",
    "    results['ssim'].append(valing_results['ssim'])\n",
    "\n",
    "    if epoch % 1 == 0 and epoch != 0:\n",
    "        data_frame = pd.DataFrame(\n",
    "            data={'Loss_D': results['d_loss'], 'Loss_G': results['g_loss'], 'Score_D': results['d_score'],\n",
    "                  'Score_G': results['g_score'], 'PSNR': results['psnr'], 'SSIM': results['ssim']},\n",
    "            index=range(1, epoch + 1))\n",
    "        data_frame.to_csv(RESULTS_DIR + 'train_stats.csv', index_label='Epoch')"
   ]
  },
  {
   "cell_type": "code",
   "execution_count": null,
   "metadata": {},
   "outputs": [],
   "source": []
  },
  {
   "cell_type": "markdown",
   "metadata": {},
   "source": [
    "# CPU"
   ]
  },
  {
   "cell_type": "code",
   "execution_count": null,
   "metadata": {},
   "outputs": [],
   "source": [
    "train_dataset = TrainDatasetFromFolder(hr_dir=TRAIN_HR_DIR, lr_dir=TRAIN_LR_DIR)\n",
    "train_loader = DataLoader(dataset=train_dataset, num_workers=NUM_WORKERS, batch_size=BATCH_SIZE, shuffle=True)\n",
    "val_dataset = ValDatasetFromFolder(hr_dir=VAL_HR_DIR, lr_dir=VAL_LR_DIR)\n",
    "val_loader = DataLoader(dataset=val_dataset, num_workers=NUM_WORKERS, batch_size=1, shuffle=False)\n",
    "\n",
    "netG = Generator(scale_factor=SCALE_FACTOR)\n",
    "print('# generator parameters:', sum(param.numel() for param in netG.parameters()))\n",
    "netD = Discriminator()\n",
    "print('# discriminator parameters:', sum(param.numel() for param in netD.parameters()))\n",
    "\n",
    "generator_criterion = SRGAN_Loss(content_loss=CONTENT_LOSS, \n",
    "                                 adversarial_loss=ADVERSARIAL_LOSS, \n",
    "                                 tv_loss_on=TV_LOSS_ON)\n",
    "\n",
    "    \n",
    "optimizerG = optim.Adam(netG.parameters())\n",
    "optimizerD = optim.Adam(netD.parameters())\n",
    "\n",
    "results = {'d_loss': [], 'g_loss': [], 'd_score': [], 'g_score': [], 'psnr': [], 'ssim': []}\n",
    "if not os.path.isdir(RESULTS_DIR):\n",
    "    os.mkdir(RESULTS_DIR)\n",
    "out_path_val = RESULTS_DIR + \"val_predict/\"\n",
    "if not os.path.isdir(out_path_val):\n",
    "    os.mkdir(out_path_val)\n",
    "out_path_net = RESULTS_DIR + \"net_weights/\"\n",
    "if not os.path.isdir(out_path_net):\n",
    "    os.mkdir(out_path_net)\n",
    "\n",
    "for epoch in range(1, NUM_EPOCHS + 1):\n",
    "    train_bar = tqdm(train_loader)\n",
    "    running_results = {'batch_sizes': 0, 'd_loss': 0, 'g_loss': 0, 'd_score': 0, 'g_score': 0}\n",
    "\n",
    "    netG.train()\n",
    "    netD.train()\n",
    "    \n",
    "    ### training\n",
    "    for lr_img, hr_img in train_bar:\n",
    "        g_update_first = True\n",
    "        batch_size = lr_img.size(0)\n",
    "        running_results['batch_sizes'] += batch_size\n",
    "        \n",
    "        ############################\n",
    "        # (1) Update D network: maximize D(x)-1-D(G(z))\n",
    "        ###########################\n",
    "        real_img = Variable(hr_img)\n",
    "        z = Variable(lr_img)\n",
    "        fake_img = netG(z)\n",
    "\n",
    "        netD.zero_grad()\n",
    "        real_out = netD(real_img)\n",
    "        fake_out = netD(fake_img)\n",
    "        d_loss = 1 - real_out.mean() + fake_out.mean()  # L1 loss\n",
    "        #  could also try a BCELoss: log(1-real_out)+log(fake_out)\n",
    "        d_loss.backward(retain_graph=True)\n",
    "        optimizerD.step()\n",
    "        \n",
    "        ############################\n",
    "        # (2) Update G network: minimize 1-D(G(z)) + Perception Loss + Image Loss + TV Loss\n",
    "        ###########################\n",
    "        netG.zero_grad()\n",
    "        g_loss = generator_criterion(fake_out, fake_img, real_img)\n",
    "        g_loss.backward()\n",
    "\n",
    "        fake_img = netG(z)\n",
    "        fake_out = netD(fake_img).mean()\n",
    "\n",
    "        optimizerG.step()\n",
    "\n",
    "        # loss for current batch before optimization \n",
    "        running_results['g_loss'] += g_loss.item() * batch_size\n",
    "        running_results['d_loss'] += d_loss.item() * batch_size\n",
    "        running_results['d_score'] += real_out.sum().item()\n",
    "        running_results['g_score'] += fake_out.sum().item()\n",
    "\n",
    "        train_bar.set_description(desc='[%d/%d] Loss_D: %.4f Loss_G: %.4f D(hr): %.4f D(G(lr)): %.4f' % (\n",
    "            epoch, NUM_EPOCHS, running_results['d_loss'] / running_results['batch_sizes'],\n",
    "            running_results['g_loss'] / running_results['batch_sizes'],\n",
    "            running_results['d_score'] / running_results['batch_sizes'],\n",
    "            running_results['g_score'] / running_results['batch_sizes']))\n",
    "        pass\n",
    "    \n",
    "    ### evaluating\n",
    "    netG.eval()\n",
    "    out_path_val_epoch = out_path_val + \"epoch_%d/\" % epoch\n",
    "    if not os.path.isdir(out_path_val_epoch):\n",
    "        os.mkdir(out_path_val_epoch)\n",
    "    with torch.no_grad():\n",
    "        valing_results = {'mse': 0, 'ssims': 0, 'psnr': 0, 'ssim': 0, 'batch_sizes': 0}\n",
    "        val_bar = tqdm(val_loader)\n",
    "        val_images = []\n",
    "        val_names = []\n",
    "        for val_lr, val_hr, val_name in val_bar:\n",
    "            batch_size = val_lr.size(0)\n",
    "            valing_results['batch_sizes'] += batch_size\n",
    "            lr = val_lr\n",
    "            hr = val_hr\n",
    "            lr2hr = scale_lr2hr((256, 256))(lr.squeeze(0))\n",
    "            sr = netG(lr)\n",
    "\n",
    "            batch_mse = ((sr - hr) ** 2).data.mean()\n",
    "            valing_results['mse'] += batch_mse * batch_size\n",
    "            batch_ssim = pytorch_ssim.ssim(sr, hr).item()\n",
    "            valing_results['ssims'] += batch_ssim * batch_size\n",
    "            valing_results['psnr'] = 10 * log10(1 / (valing_results['mse'] / valing_results['batch_sizes']))\n",
    "            valing_results['ssim'] = valing_results['ssims'] / valing_results['batch_sizes']\n",
    "            val_bar.set_description(\n",
    "                desc='[converting LR images to SR images] PSNR: %.4f dB SSIM: %.4f' % (\n",
    "                    valing_results['psnr'], valing_results['ssim']))\n",
    "            val_images.extend(\n",
    "                [display_transform()(lr2hr.squeeze(0)), display_transform()(hr.data.cpu().squeeze(0)),\n",
    "                 display_transform()(sr.data.cpu().squeeze(0))])\n",
    "            val_names.extend(val_name)\n",
    "        val_images = torch.stack(val_images)\n",
    "        val_images = torch.chunk(val_images, val_images.size(0) // 3)\n",
    "        # val_save_bar = zip(tqdm(val_images, desc='[saving validating results]'), val_names)\n",
    "        for image, name in zip(vap_images, val_names):\n",
    "            image = utils.make_grid(image, nrow=3, padding=5)\n",
    "            utils.save_image(image, out_path_val_epoch + '%s.png' % name.strip(\".tif\"), padding=5)\n",
    "    \n",
    "    ### save model parameters\n",
    "    torch.save(netG.state_dict(), out_path_net + \"netG_epoch_%d.pth\" % epoch)\n",
    "    torch.save(netD.state_dict(), out_path_net + \"netD_epoch_%d.pth\" % epoch)\n",
    "    \n",
    "    ### save loss\\scores\\psnr\\ssim\n",
    "    results['d_loss'].append(running_results['d_loss'] / running_results['batch_sizes'])\n",
    "    results['g_loss'].append(running_results['g_loss'] / running_results['batch_sizes'])\n",
    "    results['d_score'].append(running_results['d_score'] / running_results['batch_sizes'])\n",
    "    results['g_score'].append(running_results['g_score'] / running_results['batch_sizes'])\n",
    "    results['psnr'].append(valing_results['psnr'])\n",
    "    results['ssim'].append(valing_results['ssim'])\n",
    "\n",
    "    if epoch % 1 == 0 and epoch != 0:\n",
    "        data_frame = pd.DataFrame(\n",
    "            data={'Loss_D': results['d_loss'], 'Loss_G': results['g_loss'], 'Score_D': results['d_score'],\n",
    "                  'Score_G': results['g_score'], 'PSNR': results['psnr'], 'SSIM': results['ssim']},\n",
    "            index=range(1, epoch + 1))\n",
    "        data_frame.to_csv(RESULTS_DIR + 'train_stats.csv', index_label='Epoch')"
   ]
  },
  {
   "cell_type": "markdown",
   "metadata": {},
   "source": [
    "# Test"
   ]
  },
  {
   "cell_type": "code",
   "execution_count": null,
   "metadata": {},
   "outputs": [],
   "source": [
    "def torch_cuda_memory(device=None):\n",
    "    print(\"memory allocated: %.2f\" % (torch.cuda.max_memory_allocated(device=device)/1024/1024/1024))\n",
    "    print(\"memory cached: %.2f\" % (torch.cuda.max_memory_cached(device=device)/1024/1024/1024))"
   ]
  },
  {
   "cell_type": "code",
   "execution_count": null,
   "metadata": {},
   "outputs": [],
   "source": [
    "# prints currently alive Tensors and Variables\n",
    "import torch\n",
    "import gc\n",
    "for obj in gc.get_objects():\n",
    "    try:\n",
    "        if torch.is_tensor(obj) or (hasattr(obj, 'data') and torch.is_tensor(obj.data)):\n",
    "            print(type(obj), obj.size())\n",
    "    except:\n",
    "        pass"
   ]
  },
  {
   "cell_type": "code",
   "execution_count": 10,
   "metadata": {},
   "outputs": [
    {
     "ename": "ModuleNotFoundError",
     "evalue": "No module named '_dbm'",
     "output_type": "error",
     "traceback": [
      "\u001b[0;31m---------------------------------------------------------------------------\u001b[0m",
      "\u001b[0;31mModuleNotFoundError\u001b[0m                       Traceback (most recent call last)",
      "\u001b[0;32m<ipython-input-10-c0da4e16bbbb>\u001b[0m in \u001b[0;36m<module>\u001b[0;34m\u001b[0m\n\u001b[1;32m      1\u001b[0m \u001b[0;32mfor\u001b[0m \u001b[0mobj\u001b[0m \u001b[0;32min\u001b[0m \u001b[0mgc\u001b[0m\u001b[0;34m.\u001b[0m\u001b[0mget_objects\u001b[0m\u001b[0;34m(\u001b[0m\u001b[0;34m)\u001b[0m\u001b[0;34m:\u001b[0m\u001b[0;34m\u001b[0m\u001b[0;34m\u001b[0m\u001b[0m\n\u001b[0;32m----> 2\u001b[0;31m     \u001b[0;32mif\u001b[0m \u001b[0mtorch\u001b[0m\u001b[0;34m.\u001b[0m\u001b[0mis_tensor\u001b[0m\u001b[0;34m(\u001b[0m\u001b[0mobj\u001b[0m\u001b[0;34m)\u001b[0m \u001b[0;32mor\u001b[0m \u001b[0;34m(\u001b[0m\u001b[0mhasattr\u001b[0m\u001b[0;34m(\u001b[0m\u001b[0mobj\u001b[0m\u001b[0;34m,\u001b[0m \u001b[0;34m'data'\u001b[0m\u001b[0;34m)\u001b[0m \u001b[0;32mand\u001b[0m \u001b[0mtorch\u001b[0m\u001b[0;34m.\u001b[0m\u001b[0mis_tensor\u001b[0m\u001b[0;34m(\u001b[0m\u001b[0mobj\u001b[0m\u001b[0;34m.\u001b[0m\u001b[0mdata\u001b[0m\u001b[0;34m)\u001b[0m\u001b[0;34m)\u001b[0m\u001b[0;34m:\u001b[0m\u001b[0;34m\u001b[0m\u001b[0;34m\u001b[0m\u001b[0m\n\u001b[0m\u001b[1;32m      3\u001b[0m         \u001b[0mprint\u001b[0m\u001b[0;34m(\u001b[0m\u001b[0;34m\"hi\"\u001b[0m\u001b[0;34m)\u001b[0m\u001b[0;34m\u001b[0m\u001b[0;34m\u001b[0m\u001b[0m\n",
      "\u001b[0;32m~/anaconda3/envs/torch_env/lib/python3.7/site-packages/six.py\u001b[0m in \u001b[0;36m__getattr__\u001b[0;34m(self, attr)\u001b[0m\n\u001b[1;32m    116\u001b[0m \u001b[0;34m\u001b[0m\u001b[0m\n\u001b[1;32m    117\u001b[0m     \u001b[0;32mdef\u001b[0m \u001b[0m__getattr__\u001b[0m\u001b[0;34m(\u001b[0m\u001b[0mself\u001b[0m\u001b[0;34m,\u001b[0m \u001b[0mattr\u001b[0m\u001b[0;34m)\u001b[0m\u001b[0;34m:\u001b[0m\u001b[0;34m\u001b[0m\u001b[0;34m\u001b[0m\u001b[0m\n\u001b[0;32m--> 118\u001b[0;31m         \u001b[0m_module\u001b[0m \u001b[0;34m=\u001b[0m \u001b[0mself\u001b[0m\u001b[0;34m.\u001b[0m\u001b[0m_resolve\u001b[0m\u001b[0;34m(\u001b[0m\u001b[0;34m)\u001b[0m\u001b[0;34m\u001b[0m\u001b[0;34m\u001b[0m\u001b[0m\n\u001b[0m\u001b[1;32m    119\u001b[0m         \u001b[0mvalue\u001b[0m \u001b[0;34m=\u001b[0m \u001b[0mgetattr\u001b[0m\u001b[0;34m(\u001b[0m\u001b[0m_module\u001b[0m\u001b[0;34m,\u001b[0m \u001b[0mattr\u001b[0m\u001b[0;34m)\u001b[0m\u001b[0;34m\u001b[0m\u001b[0;34m\u001b[0m\u001b[0m\n\u001b[1;32m    120\u001b[0m         \u001b[0msetattr\u001b[0m\u001b[0;34m(\u001b[0m\u001b[0mself\u001b[0m\u001b[0;34m,\u001b[0m \u001b[0mattr\u001b[0m\u001b[0;34m,\u001b[0m \u001b[0mvalue\u001b[0m\u001b[0;34m)\u001b[0m\u001b[0;34m\u001b[0m\u001b[0;34m\u001b[0m\u001b[0m\n",
      "\u001b[0;32m~/anaconda3/envs/torch_env/lib/python3.7/site-packages/six.py\u001b[0m in \u001b[0;36m_resolve\u001b[0;34m(self)\u001b[0m\n\u001b[1;32m    113\u001b[0m \u001b[0;34m\u001b[0m\u001b[0m\n\u001b[1;32m    114\u001b[0m     \u001b[0;32mdef\u001b[0m \u001b[0m_resolve\u001b[0m\u001b[0;34m(\u001b[0m\u001b[0mself\u001b[0m\u001b[0;34m)\u001b[0m\u001b[0;34m:\u001b[0m\u001b[0;34m\u001b[0m\u001b[0;34m\u001b[0m\u001b[0m\n\u001b[0;32m--> 115\u001b[0;31m         \u001b[0;32mreturn\u001b[0m \u001b[0m_import_module\u001b[0m\u001b[0;34m(\u001b[0m\u001b[0mself\u001b[0m\u001b[0;34m.\u001b[0m\u001b[0mmod\u001b[0m\u001b[0;34m)\u001b[0m\u001b[0;34m\u001b[0m\u001b[0;34m\u001b[0m\u001b[0m\n\u001b[0m\u001b[1;32m    116\u001b[0m \u001b[0;34m\u001b[0m\u001b[0m\n\u001b[1;32m    117\u001b[0m     \u001b[0;32mdef\u001b[0m \u001b[0m__getattr__\u001b[0m\u001b[0;34m(\u001b[0m\u001b[0mself\u001b[0m\u001b[0;34m,\u001b[0m \u001b[0mattr\u001b[0m\u001b[0;34m)\u001b[0m\u001b[0;34m:\u001b[0m\u001b[0;34m\u001b[0m\u001b[0;34m\u001b[0m\u001b[0m\n",
      "\u001b[0;32m~/anaconda3/envs/torch_env/lib/python3.7/site-packages/six.py\u001b[0m in \u001b[0;36m_import_module\u001b[0;34m(name)\u001b[0m\n\u001b[1;32m     80\u001b[0m \u001b[0;32mdef\u001b[0m \u001b[0m_import_module\u001b[0m\u001b[0;34m(\u001b[0m\u001b[0mname\u001b[0m\u001b[0;34m)\u001b[0m\u001b[0;34m:\u001b[0m\u001b[0;34m\u001b[0m\u001b[0;34m\u001b[0m\u001b[0m\n\u001b[1;32m     81\u001b[0m     \u001b[0;34m\"\"\"Import module, returning the module after the last dot.\"\"\"\u001b[0m\u001b[0;34m\u001b[0m\u001b[0;34m\u001b[0m\u001b[0m\n\u001b[0;32m---> 82\u001b[0;31m     \u001b[0m__import__\u001b[0m\u001b[0;34m(\u001b[0m\u001b[0mname\u001b[0m\u001b[0;34m)\u001b[0m\u001b[0;34m\u001b[0m\u001b[0;34m\u001b[0m\u001b[0m\n\u001b[0m\u001b[1;32m     83\u001b[0m     \u001b[0;32mreturn\u001b[0m \u001b[0msys\u001b[0m\u001b[0;34m.\u001b[0m\u001b[0mmodules\u001b[0m\u001b[0;34m[\u001b[0m\u001b[0mname\u001b[0m\u001b[0;34m]\u001b[0m\u001b[0;34m\u001b[0m\u001b[0;34m\u001b[0m\u001b[0m\n\u001b[1;32m     84\u001b[0m \u001b[0;34m\u001b[0m\u001b[0m\n",
      "\u001b[0;32m~/anaconda3/envs/torch_env/lib/python3.7/dbm/ndbm.py\u001b[0m in \u001b[0;36m<module>\u001b[0;34m\u001b[0m\n\u001b[1;32m      1\u001b[0m \u001b[0;34m\"\"\"Provide the _dbm module as a dbm submodule.\"\"\"\u001b[0m\u001b[0;34m\u001b[0m\u001b[0;34m\u001b[0m\u001b[0m\n\u001b[1;32m      2\u001b[0m \u001b[0;34m\u001b[0m\u001b[0m\n\u001b[0;32m----> 3\u001b[0;31m \u001b[0;32mfrom\u001b[0m \u001b[0m_dbm\u001b[0m \u001b[0;32mimport\u001b[0m \u001b[0;34m*\u001b[0m\u001b[0;34m\u001b[0m\u001b[0;34m\u001b[0m\u001b[0m\n\u001b[0m",
      "\u001b[0;31mModuleNotFoundError\u001b[0m: No module named '_dbm'"
     ]
    }
   ],
   "source": [
    "for obj in gc.get_objects():\n",
    "    if torch.is_tensor(obj) or (hasattr(obj, 'data') and torch.is_tensor(obj.data)):\n",
    "        print(reduce(obj.mul, obj.size()) if len(obj.size()) > 0 else 0, type(obj), obj.size())"
   ]
  },
  {
   "cell_type": "code",
   "execution_count": null,
   "metadata": {},
   "outputs": [],
   "source": []
  },
  {
   "cell_type": "code",
   "execution_count": null,
   "metadata": {},
   "outputs": [],
   "source": []
  },
  {
   "cell_type": "code",
   "execution_count": null,
   "metadata": {},
   "outputs": [],
   "source": []
  },
  {
   "cell_type": "code",
   "execution_count": null,
   "metadata": {},
   "outputs": [],
   "source": [
    "train_dataset = TrainDatasetFromFolder(hr_dir=TRAIN_HR_DIR, lr_dir=TRAIN_LR_DIR)\n",
    "train_loader = DataLoader(dataset=train_dataset, num_workers=NUM_WORKERS, batch_size=BATCH_SIZE, shuffle=True)\n",
    "val_dataset = ValDatasetFromFolder(hr_dir=VAL_HR_DIR, lr_dir=VAL_LR_DIR)\n",
    "val_loader = DataLoader(dataset=val_dataset, num_workers=NUM_WORKERS, batch_size=1, shuffle=False)\n",
    "\n",
    "netG = Generator(scale_factor=SCALE_FACTOR)\n",
    "print('# generator parameters:', sum(param.numel() for param in netG.parameters()))\n",
    "netD = Discriminator()\n",
    "print('# discriminator parameters:', sum(param.numel() for param in netD.parameters()))\n",
    "\n",
    "generator_criterion = SRGAN_Loss(content_loss=CONTENT_LOSS, \n",
    "                                 adversarial_loss=ADVERSARIAL_LOSS, \n",
    "                                 tv_loss_on=TV_LOSS_ON)\n",
    "\n",
    "if torch.cuda.is_available():\n",
    "    netG.cuda()\n",
    "    netD.cuda()\n",
    "    generator_criterion.cuda()\n",
    "    \n",
    "if torch.cuda.is_available():\n",
    "    netG.cuda()\n",
    "    netD.cuda()\n",
    "    generator_criterion.cuda()\n",
    "    \n",
    "optimizerG = optim.Adam(netG.parameters())\n",
    "optimizerD = optim.Adam(netD.parameters())\n",
    "\n",
    "results = {'d_loss': [], 'g_loss': [], 'd_score': [], 'g_score': [], 'psnr': [], 'ssim': []}\n",
    "if not os.path.isdir(RESULTS_DIR):\n",
    "    os.mkdir(RESULTS_DIR)\n",
    "out_path_val = RESULTS_DIR + \"val_predict/\"\n",
    "if not os.path.isdir(out_path_val):\n",
    "    os.mkdir(out_path_val)\n",
    "out_path_net = RESULTS_DIR + \"net_weights/\"\n",
    "if not os.path.isdir(out_path_net):\n",
    "    os.mkdir(out_path_net)\n",
    "\n",
    "for epoch in range(1, NUM_EPOCHS + 1):\n",
    "    train_bar = tqdm(train_loader)\n",
    "    running_results = {'batch_sizes': 0, 'd_loss': 0, 'g_loss': 0, 'd_score': 0, 'g_score': 0}\n",
    "\n",
    "    netG.train()\n",
    "    netD.train()\n",
    "    \n",
    "    ### training\n",
    "    for lr_img, hr_img in train_bar:\n",
    "        break\n",
    "    break"
   ]
  },
  {
   "cell_type": "code",
   "execution_count": null,
   "metadata": {},
   "outputs": [],
   "source": [
    "g_update_first = True\n",
    "batch_size = lr_img.size(0)\n",
    "running_results['batch_sizes'] += batch_size\n",
    "\n",
    "############################\n",
    "# (1) Update D network: maximize D(x)-1-D(G(z))\n",
    "###########################\n",
    "real_img = Variable(hr_img)\n",
    "if torch.cuda.is_available():\n",
    "    real_img = real_img.cuda()\n",
    "z = Variable(lr_img)\n",
    "if torch.cuda.is_available():\n",
    "    z = z.cuda()"
   ]
  },
  {
   "cell_type": "code",
   "execution_count": null,
   "metadata": {},
   "outputs": [],
   "source": []
  },
  {
   "cell_type": "code",
   "execution_count": null,
   "metadata": {},
   "outputs": [],
   "source": [
    "fake_img = netG(z)"
   ]
  },
  {
   "cell_type": "code",
   "execution_count": null,
   "metadata": {},
   "outputs": [],
   "source": [
    "loss = 1 - real_out.mean()\n",
    "loss.backward()"
   ]
  },
  {
   "cell_type": "code",
   "execution_count": null,
   "metadata": {},
   "outputs": [],
   "source": []
  },
  {
   "cell_type": "code",
   "execution_count": null,
   "metadata": {},
   "outputs": [],
   "source": []
  },
  {
   "cell_type": "code",
   "execution_count": null,
   "metadata": {},
   "outputs": [],
   "source": [
    "\n",
    "netD.zero_grad()\n",
    "real_out = netD(real_img)\n",
    "fake_out = netD(fake_img)\n",
    "d_loss = 1 - real_out.mean() + fake_out.mean()  # L1 loss\n",
    "#  could also try a BCELoss: log(1-real_out)+log(fake_out)\n",
    "d_loss.backward(retain_graph=True)\n",
    "optimizerD.step()"
   ]
  },
  {
   "cell_type": "code",
   "execution_count": null,
   "metadata": {},
   "outputs": [],
   "source": [
    "torch_cuda_memory()"
   ]
  },
  {
   "cell_type": "code",
   "execution_count": null,
   "metadata": {},
   "outputs": [],
   "source": []
  },
  {
   "cell_type": "code",
   "execution_count": null,
   "metadata": {},
   "outputs": [],
   "source": []
  },
  {
   "cell_type": "code",
   "execution_count": null,
   "metadata": {},
   "outputs": [],
   "source": [
    "netD.zero_grad()"
   ]
  },
  {
   "cell_type": "markdown",
   "metadata": {},
   "source": []
  },
  {
   "cell_type": "code",
   "execution_count": null,
   "metadata": {},
   "outputs": [],
   "source": [
    "torch.cuda.memory_allocated(device=None)"
   ]
  },
  {
   "cell_type": "code",
   "execution_count": null,
   "metadata": {},
   "outputs": [],
   "source": [
    "torch.cuda.max_memory_allocated(device=None)"
   ]
  },
  {
   "cell_type": "code",
   "execution_count": null,
   "metadata": {},
   "outputs": [],
   "source": [
    "torch.cuda.reset_max_memory_allocated(device=None)"
   ]
  },
  {
   "cell_type": "code",
   "execution_count": null,
   "metadata": {},
   "outputs": [],
   "source": [
    "torch.cuda.memory_cached(device=None)"
   ]
  },
  {
   "cell_type": "code",
   "execution_count": null,
   "metadata": {},
   "outputs": [],
   "source": [
    "torch.cuda.max_memory_cached(device=None)"
   ]
  },
  {
   "cell_type": "code",
   "execution_count": null,
   "metadata": {},
   "outputs": [],
   "source": [
    "torch.cuda.reset_max_memory_cached(device=None)"
   ]
  },
  {
   "cell_type": "code",
   "execution_count": null,
   "metadata": {},
   "outputs": [],
   "source": []
  },
  {
   "cell_type": "code",
   "execution_count": null,
   "metadata": {},
   "outputs": [],
   "source": []
  },
  {
   "cell_type": "code",
   "execution_count": null,
   "metadata": {},
   "outputs": [],
   "source": []
  },
  {
   "cell_type": "code",
   "execution_count": null,
   "metadata": {},
   "outputs": [],
   "source": []
  },
  {
   "cell_type": "code",
   "execution_count": null,
   "metadata": {},
   "outputs": [],
   "source": []
  },
  {
   "cell_type": "code",
   "execution_count": null,
   "metadata": {},
   "outputs": [],
   "source": []
  },
  {
   "cell_type": "code",
   "execution_count": null,
   "metadata": {},
   "outputs": [],
   "source": []
  },
  {
   "cell_type": "code",
   "execution_count": null,
   "metadata": {},
   "outputs": [],
   "source": []
  },
  {
   "cell_type": "code",
   "execution_count": null,
   "metadata": {},
   "outputs": [],
   "source": []
  },
  {
   "cell_type": "code",
   "execution_count": null,
   "metadata": {},
   "outputs": [],
   "source": []
  },
  {
   "cell_type": "code",
   "execution_count": 2,
   "metadata": {},
   "outputs": [],
   "source": [
    "from tqdm import tqdm\n",
    "from time import sleep\n",
    "\n",
    "for z in range(2):\n",
    "    a = tqdm(range(10), desc='1st loop')\n",
    "    for i in a:\n",
    "        sleep(0.1)\n",
    "        a.set_description(\"abc\")\n",
    "    b = tqdm(range(5), desc='2nd loop')\n",
    "    for j in b:\n",
    "        sleep(0.3)\n",
    "        b.set_description(\"cba\")\n",
    "    c = zip(tqdm(range(200), desc='3nd loop'), range(200))\n",
    "    for k1, k2 in c:\n",
    "        sleep(0.01)"
   ]
  },
  {
   "cell_type": "code",
   "execution_count": null,
   "metadata": {},
   "outputs": [],
   "source": []
  },
  {
   "cell_type": "code",
   "execution_count": null,
   "metadata": {},
   "outputs": [],
   "source": []
  }
 ],
 "metadata": {
  "kernelspec": {
   "display_name": "torch_env",
   "language": "python",
   "name": "torch_env"
  },
  "language_info": {
   "codemirror_mode": {
    "name": "ipython",
    "version": 3
   },
   "file_extension": ".py",
   "mimetype": "text/x-python",
   "name": "python",
   "nbconvert_exporter": "python",
   "pygments_lexer": "ipython3",
   "version": "3.7.5"
  }
 },
 "nbformat": 4,
 "nbformat_minor": 4
}
